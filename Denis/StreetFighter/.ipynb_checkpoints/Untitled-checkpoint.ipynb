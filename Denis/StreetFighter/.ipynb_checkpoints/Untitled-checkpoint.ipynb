{
 "cells": [
  {
   "cell_type": "code",
   "execution_count": 1,
   "metadata": {},
   "outputs": [],
   "source": [
    "import sys\n",
    "from PyQt5.QtWidgets import (QApplication, QLabel, QWidget)\n",
    "from PyQt5.QtGui import QPainter, QColor, QPen, QPixmap\n",
    "from PyQt5.QtCore import Qt"
   ]
  },
  {
   "cell_type": "code",
   "execution_count": null,
   "metadata": {},
   "outputs": [],
   "source": [
    "class MouseTracker(QWidget):\n",
    "    distance_from_target = 0\n",
    "    mouse_x_pos = 0\n",
    "    mouse_y_pos = 0\n",
    "    target_x_pos = 500\n",
    "    target_y_pos = 250\n",
    "    def __init__(self):\n",
    "        super().__init__()\n",
    "        self.initUI()\n",
    "        self.setMouseTracking(True)\n",
    "    def initUI(self):\n",
    "        self.setGeometry(200, 200, 1000, 500)\n",
    "        self.setWindowTitle('Mouse Tracker')\n",
    "        self.label = QLabel(self)\n",
    "        self.label.resize(500, 40)\n",
    "        self.show()\n",
    "    def mouseMoveEvent(self, event):\n",
    "        distance_from_target = round(((event.y() - self.target_y_pos)**2 + (event.x() - self.target_x_pos)**2)**0.5)\n",
    "        self.label.setText('Coordinates: (%d : %d)' % (event.x(), event.y()) + \"   Distance from target: \" + str(distance_from_target))\n",
    "        self.mouse_x_pos = event.x()\n",
    "        self.mouse_y_pos = event.y()\n",
    "        self.update()\n",
    "    def mousePressEvent(self, event):\n",
    "        self.target_x_pos = event.x()\n",
    "        self.target_y_pos = event.y()\n",
    "        self.update()\n",
    "    def paintEvent(self, event):\n",
    "        q = QPainter()\n",
    "        q.begin(self)\n",
    "        q.drawLine(self.mouse_x_pos, self.mouse_y_pos, self.target_x_pos, self.target_y_pos)\n",
    "\n",
    "\n",
    "app = QApplication(sys.argv)\n",
    "ex = MouseTracker()\n",
    "sys.exit(app.exec_())"
   ]
  },
  {
   "cell_type": "code",
   "execution_count": null,
   "metadata": {},
   "outputs": [],
   "source": []
  }
 ],
 "metadata": {
  "kernelspec": {
   "display_name": "Python 3",
   "language": "python",
   "name": "python3"
  },
  "language_info": {
   "codemirror_mode": {
    "name": "ipython",
    "version": 3
   },
   "file_extension": ".py",
   "mimetype": "text/x-python",
   "name": "python",
   "nbconvert_exporter": "python",
   "pygments_lexer": "ipython3",
   "version": "3.9.0"
  }
 },
 "nbformat": 4,
 "nbformat_minor": 4
}
